{
  "nbformat": 4,
  "nbformat_minor": 0,
  "metadata": {
    "colab": {
      "name": "Paraiba.ipynb",
      "provenance": [],
      "collapsed_sections": [],
      "authorship_tag": "ABX9TyPvwDC4NPO79Fbq1wt+E0Y/",
      "include_colab_link": true
    },
    "kernelspec": {
      "name": "python3",
      "display_name": "Python 3"
    },
    "language_info": {
      "name": "python"
    }
  },
  "cells": [
    {
      "cell_type": "markdown",
      "metadata": {
        "id": "view-in-github",
        "colab_type": "text"
      },
      "source": [
        "<a href=\"https://colab.research.google.com/github/conexaomundom/Computacional/blob/master/Paraiba.ipynb\" target=\"_parent\"><img src=\"https://colab.research.google.com/assets/colab-badge.svg\" alt=\"Open In Colab\"/></a>"
      ]
    },
    {
      "cell_type": "markdown",
      "metadata": {
        "id": "TQWmn43k1a_u"
      },
      "source": [
        "MODELO COMPLETO PARA A PARAÍBA"
      ]
    },
    {
      "cell_type": "code",
      "metadata": {
        "id": "fqq3zBrW1bu3"
      },
      "source": [
        "%load_ext rpy2.ipython"
      ],
      "execution_count": 1,
      "outputs": []
    },
    {
      "cell_type": "code",
      "metadata": {
        "id": "uGboseVV0uJM"
      },
      "source": [
        "%%R\n",
        "install.packages(\"ggplot2\")\n",
        "install.packages(\"RColorBrewer\")\n",
        "install.packages(\"readr\")\n",
        "install.packages(\"readxl\")\n",
        "install.packages(\"nortest\")\n",
        "install.packages(\"forecast\")"
      ],
      "execution_count": null,
      "outputs": []
    },
    {
      "cell_type": "code",
      "metadata": {
        "id": "b6X4sHqJ0uXq"
      },
      "source": [
        "%%R\n",
        "library(\"ggplot2\")\n",
        "library(\"RColorBrewer\")\n",
        "library(\"readr\")\n",
        "library(\"readxl\")\n",
        "library(\"nortest\")"
      ],
      "execution_count": 4,
      "outputs": []
    },
    {
      "cell_type": "code",
      "metadata": {
        "id": "sTaoCxvu0ufy"
      },
      "source": [
        "%%R\n",
        "load(\"/content/PB2016.Rda\")\n",
        "# posicao <- which(PB2016$Município == 250750) # 361094\n",
        "\n",
        "# jp_PB2016 <- data.frame(PB2016[posicao, ])"
      ],
      "execution_count": 6,
      "outputs": []
    },
    {
      "cell_type": "code",
      "metadata": {
        "id": "bQ6HYjqB04F2"
      },
      "source": [
        "%%R\n",
        "# \n",
        "# length(levels(as.factor(PB2016$`CBO Ocupação 2002`))) # 1969\n",
        "# levels(as.factor(PB2016$Faixa.Remun.Média..SM.))\n",
        "# \"0\"  \"1\"  \"2\"  \"3\"  \"4\"  \"5\"  \"6\"  \"7\"  \"8\"  \"9\"  \"10\" \"11\" \"99\"\n",
        "sm <- 880 \n",
        "# Pontos medios\n",
        "pm <- c(0.5*sm, # 0\n",
        "        ((0.51+1.0)/2)*sm, # 1 \n",
        "        ((1.01+1.5)/2)*sm, # 2 \n",
        "        ((1.51+2.0)/2)*sm, # 3\n",
        "        ((2.01+3.0)/2)*sm, # 4\n",
        "        ((3.01+4.0)/2)*sm, # 5\n",
        "        ((4.01+5.0)/2)*sm, # 6\n",
        "        ((5.01+7.0)/2)*sm, # 7\n",
        "        ((7.01+10.0)/2)*sm, # 8\n",
        "        ((10.01+15.0)/2)*sm, # 9\n",
        "        ((15.01+20.0)/2)*sm, # 10\n",
        "        (20.01)*sm) # 11\n",
        "\n",
        "\n",
        "for(i in 0:11){\n",
        "    posicao <- which(PB2016$`Faixa Remun Média (SM)` == i)\n",
        "    PB2016$`Faixa Remun Média (SM)`[posicao] <- pm[i+1]\n",
        "}\n",
        "\n",
        "length(which(PB2016$`Faixa Remun Média (SM)` == 99)) # 11774"
      ],
      "execution_count": null,
      "outputs": []
    },
    {
      "cell_type": "code",
      "metadata": {
        "id": "ByICc7SjHlNi"
      },
      "source": [
        "%%R\n",
        "# Modelo completo\n",
        "PB2016$`Faixa Etária`[which(PB2016$`Faixa Etária` == 99)] <- 1\n",
        "PB2016$`Faixa Etária`[which(PB2016$`Faixa Etária` == 5)] <- 1\n",
        "PB2016$`Raça Cor`[which(PB2016$`Raça Cor` == 9)] <- 1\n",
        "\n",
        "modelo_complt <- lm(`Faixa Remun Média (SM)` ~ as.factor(`Sexo Trabalhador`) + \n",
        "                      as.factor(`Faixa Etária`) +  as.factor(`Escolaridade após 2005`) +\n",
        "                      `Qtd Hora Contr` + as.factor(`Raça Cor`), data = PB2016)\n",
        "summary(modelo_complt)\n",
        "\n",
        "# Selecao de variaveis                    Estimate Std. Error t value Pr(>|t|)\n",
        "# as.factor(`Faixa Etária`)99            100.3208   880.1269   0.114  0.90925\n",
        "# as.factor(`Faixa Etária`)5              64.0373   361.1864   0.177  0.85928\n",
        "# as.factor(`Raça Cor`)9                 -52.4690    60.7993  -0.863  0.38814"
      ],
      "execution_count": null,
      "outputs": []
    },
    {
      "cell_type": "code",
      "metadata": {
        "id": "RTCygFTCKAKb"
      },
      "source": [
        "%%R\n",
        "# \n",
        "#--------------------------------------------\n",
        "#Analise Residual e de Diagnostico\n",
        "#--------------------------------------------\n",
        "\n",
        "residuo <- residuals(modelo_complt)\n",
        "fit <- fitted.values(modelo_complt)\n",
        "\n",
        "#Calculo dos Residuos padronizados, valores Ajustados, Medidas de Alavanca e Influencia\n",
        "\n",
        "ard = ls.diag(modelo_complt)\n",
        "\n",
        "respadron <- ard$std.res\n",
        "\n",
        "hi <- ard$hat #medidas de alavanca\n",
        "cook <- ard$cooks #medidas de influencia\n",
        "dfits <- ard$dfits #medidas de influencia\n"
      ],
      "execution_count": 13,
      "outputs": []
    },
    {
      "cell_type": "code",
      "metadata": {
        "colab": {
          "base_uri": "https://localhost:8080/",
          "height": 497
        },
        "id": "sbO9kB7UKIFI",
        "outputId": "0f735034-6e55-407f-973e-5a3a40f4542a"
      },
      "source": [
        "%%R\n",
        "#Grafico de Homocedasticidade\n",
        "library(ggplot2)\n",
        "theme_set(theme_bw())\n",
        "homo <- data.frame(fit, respadron)\n",
        "g1 <- ggplot(homo, aes(fit, respadron))\n",
        "g1 + geom_point() + labs(x = \"Ajuste\", y = \"Resíduo Padronizado\")"
      ],
      "execution_count": 14,
      "outputs": [
        {
          "output_type": "display_data",
          "data": {
            "image/png": "[encoded data removed]"
          },
          "metadata": {
            "tags": []
          }
        }
      ]
    },
    {
      "cell_type": "code",
      "metadata": {
        "colab": {
          "base_uri": "https://localhost:8080/",
          "height": 497
        },
        "id": "3QO8Mq5HLAgj",
        "outputId": "3d4ac9ec-bc6e-4dfb-cc9b-14140d401fce"
      },
      "source": [
        "%%R\n",
        "#Grafico de Normalidade\n",
        "library(nortest)\n",
        "lillie.test(respadron)\n",
        "# shapiro.test(respadron)\n",
        "\n",
        "ggplot(data.frame(respadron), aes(sample = respadron))+\n",
        "  stat_qq() + stat_qq_line(colour = \"red\")"
      ],
      "execution_count": 16,
      "outputs": [
        {
          "output_type": "display_data",
          "data": {
            "image/png": "[encoded data removed]"
          },
          "metadata": {
            "tags": []
          }
        }
      ]
    },
    {
      "cell_type": "code",
      "metadata": {
        "colab": {
          "base_uri": "https://localhost:8080/",
          "height": 497
        },
        "id": "z9A8Dj5WLEZA",
        "outputId": "cecc9489-3c55-4dd9-e504-864c51882a62"
      },
      "source": [
        "%%R\n",
        "#Grafico de Linearidade\n",
        "line <- data.frame(fit, PB2016$`Faixa Remun Média (SM)`)\n",
        "g3 <- ggplot(line, aes(fit, PB2016$`Faixa Remun Média (SM)`)) + geom_point()\n",
        "# g3 + geom_point() #+ labs(x = \"Ajuste\", y = \"Resíduo Padronizado\")\n",
        "g3 + labs(x = \"Ajuste\", y = \"Renda Média Salarial\")"
      ],
      "execution_count": 18,
      "outputs": [
        {
          "output_type": "display_data",
          "data": {
            "image/png": "[encoded data removed]"
          },
          "metadata": {
            "tags": []
          }
        }
      ]
    },
    {
      "cell_type": "code",
      "metadata": {
        "colab": {
          "base_uri": "https://localhost:8080/",
          "height": 565
        },
        "id": "XSgGGYH9LI6w",
        "outputId": "785823fd-7b17-4282-ab89-3363c1164394"
      },
      "source": [
        "%%R\n",
        "# Usando o gráfico de Autocorrelacao\n",
        "# acf(respadron)\n",
        "library(forecast)\n",
        "ggAcf(respadron)"
      ],
      "execution_count": 19,
      "outputs": [
        {
          "output_type": "stream",
          "text": [
            "R[write to console]: Registered S3 method overwritten by 'quantmod':\n",
            "  method            from\n",
            "  as.zoo.data.frame zoo \n",
            "\n"
          ],
          "name": "stderr"
        },
        {
          "output_type": "display_data",
          "data": {
            "image/png": "[encoded data removed]"
          },
          "metadata": {
            "tags": []
          }
        }
      ]
    },
    {
      "cell_type": "markdown",
      "metadata": {
        "id": "PA7d8nmvNWuD"
      },
      "source": [
        "**Modelos univariados**"
      ]
    },
    {
      "cell_type": "code",
      "metadata": {
        "id": "h1cC0PpMOFwT"
      },
      "source": [
        "%%R\n",
        "load(\"/content/PB2016.Rda\")"
      ],
      "execution_count": 41,
      "outputs": []
    },
    {
      "cell_type": "code",
      "metadata": {
        "id": "ym9blIWqNb2w"
      },
      "source": [
        "%%R\n",
        "# romando o modelo linear unitário `Sexo Trabalhador`\n",
        "modelo1 <- lm(`Faixa Remun Média (SM)` ~ as.factor(`Sexo Trabalhador`), data = PB2016)\n",
        "summary(modelo1)\n"
      ],
      "execution_count": null,
      "outputs": []
    },
    {
      "cell_type": "markdown",
      "metadata": {
        "id": "1aylcRJkQqfU"
      },
      "source": [
        "**Analise Residual e de Diagnostico MODELOS UNITÁRIOS Var Sexo**"
      ]
    },
    {
      "cell_type": "code",
      "metadata": {
        "id": "8tFvxvWIQd2a"
      },
      "source": [
        "%%R \n",
        "# MODELOS UNITÁRIOS\n",
        "#--------------------------------------------\n",
        "#Analise Residual e de Diagnostico\n",
        "#--------------------------------------------\n",
        "\n",
        "residuo1 <- residuals(modelo1)\n",
        "fit1 <- fitted.values(modelo1)\n",
        "\n",
        "#Calculo dos Residuos padronizados, valores Ajustados, Medidas de Alavanca e Influencia\n",
        "\n",
        "ard1 = ls.diag(modelo1)\n",
        "\n",
        "respadron1 <- ard1$std.res\n",
        "\n",
        "hi1 <- ard1$hat #medidas de alavanca\n",
        "cook1 <- ard1$cooks #medidas de influencia\n",
        "dfits1 <- ard1$dfits #medidas de influencia"
      ],
      "execution_count": 47,
      "outputs": []
    },
    {
      "cell_type": "code",
      "metadata": {
        "colab": {
          "base_uri": "https://localhost:8080/",
          "height": 497
        },
        "id": "QzKIkJiDQy9p",
        "outputId": "6f14ca38-4fc6-4257-e2ce-f040b09f860c"
      },
      "source": [
        "%%R \n",
        "# Grafico de Homocedasticidade\n",
        "library(ggplot2)\n",
        "theme_set(theme_bw())\n",
        "homo1 <- data.frame(fit1, respadron1)\n",
        "g11 <- ggplot(homo1, aes(fit1, respadron1))\n",
        "g11 + geom_point() + labs(x = \"Ajuste\", y = \"Resíduo Padronizado\")"
      ],
      "execution_count": 48,
      "outputs": [
        {
          "output_type": "display_data",
          "data": {
            "image/png": "[encoded data removed]"
          },
          "metadata": {
            "tags": []
          }
        }
      ]
    },
    {
      "cell_type": "code",
      "metadata": {
        "colab": {
          "base_uri": "https://localhost:8080/",
          "height": 497
        },
        "id": "r92sdkHWRhPE",
        "outputId": "2196920e-0072-4e57-f17d-4c1defba2887"
      },
      "source": [
        "%%R \n",
        "# Grafico de Normalidade\n",
        "library(nortest)\n",
        "lillie.test(respadron1)\n",
        "# shapiro.test(respadron)\n",
        "\n",
        "ggplot(data.frame(respadron1), aes(sample = respadron1))+\n",
        "  stat_qq() + stat_qq_line(colour = \"red\")\n",
        "\n",
        "# qqnorm(respadron); qqline(respadron, col=2)"
      ],
      "execution_count": 49,
      "outputs": [
        {
          "output_type": "display_data",
          "data": {
            "image/png": "[encoded data removed]"
          },
          "metadata": {
            "tags": []
          }
        }
      ]
    },
    {
      "cell_type": "code",
      "metadata": {
        "colab": {
          "base_uri": "https://localhost:8080/",
          "height": 497
        },
        "id": "TYS_EtlXRmyK",
        "outputId": "82fd0c98-3f23-453f-ef6f-828e36c046f2"
      },
      "source": [
        "%%R \n",
        "#Exmplo: caso de normaliadde\n",
        "# = rnorm(100, 0, 1)\n",
        "#qqnorm(respadron1); qqline(respadron1, col=2)\n",
        "\n",
        "#Grafico de Linearidade\n",
        "line1 <- data.frame(fit1, PB2016$`Faixa Remun Média (SM)`)\n",
        "g31 <- ggplot(line1, aes(fit1, PB2016$`Faixa Remun Média (SM)`)) + geom_point()\n",
        "# g31 + geom_point() #+ labs(x = \"Ajuste\", y = \"Resíduo Padronizado\")\n",
        "g31 + labs(x = \"Ajuste\", y = \"Renda Média Salarial\")"
      ],
      "execution_count": 50,
      "outputs": [
        {
          "output_type": "display_data",
          "data": {
            "image/png": "[encoded data removed]"
          },
          "metadata": {
            "tags": []
          }
        }
      ]
    },
    {
      "cell_type": "code",
      "metadata": {
        "colab": {
          "base_uri": "https://localhost:8080/",
          "height": 497
        },
        "id": "0dBN60OnSESb",
        "outputId": "16404818-a94a-45f6-82b9-14ab599d214e"
      },
      "source": [
        "%%R \n",
        "# Usando o gráfico de Autocorrelacao\n",
        "# acf(respadron)\n",
        "library(forecast)\n",
        "ggAcf(respadron1)"
      ],
      "execution_count": 51,
      "outputs": [
        {
          "output_type": "display_data",
          "data": {
            "image/png": "[encoded data removed]"
          },
          "metadata": {
            "tags": []
          }
        }
      ]
    },
    {
      "cell_type": "code",
      "metadata": {
        "colab": {
          "base_uri": "https://localhost:8080/"
        },
        "id": "X8wN19skNxqB",
        "outputId": "45bc20d2-16c3-43e6-94c0-814d87cc1f54"
      },
      "source": [
        "%%R\n",
        "# romando o modelo linear unitário \"Faixa Etária\"\n",
        "PB2016$`Faixa Etária`[which(PB2016$`Faixa Etária` == 2)] <- 1\n",
        "PB2016$`Faixa Etária`[which(PB2016$`Faixa Etária` == 99)] <- 1\n",
        "modelo2 <- lm(`Faixa Remun Média (SM)` ~ as.factor(`Faixa Etária`), data = PB2016)\n",
        "summary(modelo2)\n",
        "# Selecao de variaveis        Estimate Std. Error t value Pr(>|t|)\n",
        "# as.factor(`Faixa Etária`)2     0.194      2.467   0.079   0.9373\n",
        "# as.factor(`Faixa Etária`)99   1.1727     4.6974   0.250    0.803"
      ],
      "execution_count": 40,
      "outputs": [
        {
          "output_type": "stream",
          "text": [
            "\n",
            "Call:\n",
            "lm(formula = `Faixa Remun Média (SM)` ~ as.factor(`Faixa Etária`), \n",
            "    data = PB2016)\n",
            "\n",
            "Residuals:\n",
            "   Min     1Q Median     3Q    Max \n",
            "-6.762 -2.475 -1.654 -0.654 97.668 \n",
            "\n",
            "Coefficients:\n",
            "                           Estimate Std. Error t value Pr(>|t|)    \n",
            "(Intercept)                  1.3324     0.3080   4.327 1.51e-05 ***\n",
            "as.factor(`Faixa Etária`)3   1.8136     0.3099   5.852 4.86e-09 ***\n",
            "as.factor(`Faixa Etária`)4   2.3218     0.3096   7.500 6.41e-14 ***\n",
            "as.factor(`Faixa Etária`)5   2.7213     0.3088   8.814  < 2e-16 ***\n",
            "as.factor(`Faixa Etária`)6   3.1423     0.3092  10.164  < 2e-16 ***\n",
            "as.factor(`Faixa Etária`)7   3.9273     0.3095  12.688  < 2e-16 ***\n",
            "as.factor(`Faixa Etária`)8   5.4294     0.3259  16.660  < 2e-16 ***\n",
            "---\n",
            "Signif. codes:  0 ‘***’ 0.001 ‘**’ 0.01 ‘*’ 0.05 ‘.’ 0.1 ‘ ’ 1\n",
            "\n",
            "Residual standard error: 11.48 on 831616 degrees of freedom\n",
            "Multiple R-squared:  0.0038,\tAdjusted R-squared:  0.003793 \n",
            "F-statistic: 528.7 on 6 and 831616 DF,  p-value: < 2.2e-16\n",
            "\n"
          ],
          "name": "stdout"
        }
      ]
    },
    {
      "cell_type": "code",
      "metadata": {
        "colab": {
          "base_uri": "https://localhost:8080/"
        },
        "id": "p0QiY39QNxuE",
        "outputId": "bf0b6d64-d0c7-4cd8-835e-3362ceac2981"
      },
      "source": [
        "%%R\n",
        "# romando o modelo linear unitário \"Escolaridade após 2005\"\n",
        "# PB2016$`Escolaridade após 2005`[which(PB2016$`Escolaridade após 2005` == 6)] <- 1\n",
        "modelo3 <- lm(`Faixa Remun Média (SM)` ~ as.factor(`Escolaridade após 2005`), data = PB2016)\n",
        "summary(modelo3)\n",
        "# Selecao de variaveis                    Estimate Std. Error t value Pr(>|t|)\n"
      ],
      "execution_count": 42,
      "outputs": [
        {
          "output_type": "stream",
          "text": [
            "\n",
            "Call:\n",
            "lm(formula = `Faixa Remun Média (SM)` ~ as.factor(`Escolaridade após 2005`), \n",
            "    data = PB2016)\n",
            "\n",
            "Residuals:\n",
            "   Min     1Q Median     3Q    Max \n",
            "-7.557 -2.100 -1.717 -0.717 95.283 \n",
            "\n",
            "Coefficients:\n",
            "                                      Estimate Std. Error t value Pr(>|t|)    \n",
            "(Intercept)                             5.8116     0.1231  47.200  < 2e-16 ***\n",
            "as.factor(`Escolaridade após 2005`)2   -0.9227     0.1370  -6.736 1.63e-11 ***\n",
            "as.factor(`Escolaridade após 2005`)3   -1.1840     0.1455  -8.136 4.09e-16 ***\n",
            "as.factor(`Escolaridade após 2005`)4   -1.4342     0.1348 -10.640  < 2e-16 ***\n",
            "as.factor(`Escolaridade após 2005`)5   -1.9191     0.1278 -15.014  < 2e-16 ***\n",
            "as.factor(`Escolaridade após 2005`)6   -1.7500     0.1347 -12.988  < 2e-16 ***\n",
            "as.factor(`Escolaridade após 2005`)7   -2.0941     0.1246 -16.812  < 2e-16 ***\n",
            "as.factor(`Escolaridade após 2005`)8   -1.8166     0.1418 -12.814  < 2e-16 ***\n",
            "as.factor(`Escolaridade após 2005`)9   -0.7117     0.1264  -5.629 1.81e-08 ***\n",
            "as.factor(`Escolaridade após 2005`)10   0.8578     0.2103   4.079 4.52e-05 ***\n",
            "as.factor(`Escolaridade após 2005`)11   1.7450     0.2881   6.056 1.40e-09 ***\n",
            "---\n",
            "Signif. codes:  0 ‘***’ 0.001 ‘**’ 0.01 ‘*’ 0.05 ‘.’ 0.1 ‘ ’ 1\n",
            "\n",
            "Residual standard error: 11.49 on 831612 degrees of freedom\n",
            "Multiple R-squared:  0.002938,\tAdjusted R-squared:  0.002926 \n",
            "F-statistic: 245.1 on 10 and 831612 DF,  p-value: < 2.2e-16\n",
            "\n"
          ],
          "name": "stdout"
        }
      ]
    },
    {
      "cell_type": "code",
      "metadata": {
        "colab": {
          "base_uri": "https://localhost:8080/"
        },
        "id": "g4Rbp37gNxwq",
        "outputId": "0087984e-c294-48e7-ab3b-6413a971a1ba"
      },
      "source": [
        "%%R\n",
        "# romando o modelo linear unitário `Qtd Hora Contr`\n",
        "modelo4 <- lm(`Faixa Remun Média (SM)` ~ `Qtd Hora Contr`, data = PB2016)\n",
        "summary(modelo4)"
      ],
      "execution_count": 43,
      "outputs": [
        {
          "output_type": "stream",
          "text": [
            "\n",
            "Call:\n",
            "lm(formula = `Faixa Remun Média (SM)` ~ `Qtd Hora Contr`, data = PB2016)\n",
            "\n",
            "Residuals:\n",
            "   Min     1Q Median     3Q    Max \n",
            "-5.259 -2.192 -2.083 -0.466 94.917 \n",
            "\n",
            "Coefficients:\n",
            "                  Estimate Std. Error t value Pr(>|t|)    \n",
            "(Intercept)       5.286559   0.073797   71.64   <2e-16 ***\n",
            "`Qtd Hora Contr` -0.027358   0.001816  -15.07   <2e-16 ***\n",
            "---\n",
            "Signif. codes:  0 ‘***’ 0.001 ‘**’ 0.01 ‘*’ 0.05 ‘.’ 0.1 ‘ ’ 1\n",
            "\n",
            "Residual standard error: 11.5 on 831621 degrees of freedom\n",
            "Multiple R-squared:  0.0002729,\tAdjusted R-squared:  0.0002717 \n",
            "F-statistic:   227 on 1 and 831621 DF,  p-value: < 2.2e-16\n",
            "\n"
          ],
          "name": "stdout"
        }
      ]
    },
    {
      "cell_type": "code",
      "metadata": {
        "colab": {
          "base_uri": "https://localhost:8080/"
        },
        "id": "7tU1e9FqNxzK",
        "outputId": "08d0c114-b7c1-4d54-beb5-cedfe9bfcd7d"
      },
      "source": [
        "%%R\n",
        "# romando o modelo linear unitário `Raça Cor`\n",
        "PB2016$`Raça Cor`[which(PB2016$`Raça Cor` == 6)] <- 1\n",
        "PB2016$`Raça Cor`[which(PB2016$`Raça Cor` == 2)] <- 1\n",
        "modelo5 <- lm(`Faixa Remun Média (SM)` ~ as.factor(`Raça Cor`), data = PB2016)\n",
        "summary(modelo5)\n",
        "# Selecao de variaveis      Estimate Std. Error t value Pr(>|t|)\n",
        "# as.factor(`Raça Cor`)6   0.02278    0.39333   0.058 0.953814\n",
        "# as.factor(`Raça Cor`)2   -0.2095     0.1437  -1.458 0.144872"
      ],
      "execution_count": 46,
      "outputs": [
        {
          "output_type": "stream",
          "text": [
            "\n",
            "Call:\n",
            "lm(formula = `Faixa Remun Média (SM)` ~ as.factor(`Raça Cor`), \n",
            "    data = PB2016)\n",
            "\n",
            "Residuals:\n",
            "   Min     1Q Median     3Q    Max \n",
            "-4.737 -2.441 -1.827 -0.622 95.378 \n",
            "\n",
            "Coefficients:\n",
            "                        Estimate Std. Error t value Pr(>|t|)    \n",
            "(Intercept)              4.73657    0.02800 169.193  < 2e-16 ***\n",
            "as.factor(`Raça Cor`)4  -0.39609    0.08846  -4.477 7.56e-06 ***\n",
            "as.factor(`Raça Cor`)8  -0.29516    0.03463  -8.523  < 2e-16 ***\n",
            "as.factor(`Raça Cor`)9  -0.90928    0.05633 -16.142  < 2e-16 ***\n",
            "as.factor(`Raça Cor`)99 -1.11418    0.03565 -31.252  < 2e-16 ***\n",
            "---\n",
            "Signif. codes:  0 ‘***’ 0.001 ‘**’ 0.01 ‘*’ 0.05 ‘.’ 0.1 ‘ ’ 1\n",
            "\n",
            "Residual standard error: 11.49 on 831618 degrees of freedom\n",
            "Multiple R-squared:  0.001504,\tAdjusted R-squared:  0.001499 \n",
            "F-statistic: 313.2 on 4 and 831618 DF,  p-value: < 2.2e-16\n",
            "\n"
          ],
          "name": "stdout"
        }
      ]
    }
  ]
}